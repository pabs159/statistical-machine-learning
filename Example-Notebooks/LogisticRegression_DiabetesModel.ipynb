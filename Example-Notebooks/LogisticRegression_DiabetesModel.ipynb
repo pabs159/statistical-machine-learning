{
 "cells": [
  {
   "cell_type": "code",
   "execution_count": 1,
   "metadata": {},
   "outputs": [],
   "source": [
    "# Supress warnings\n",
    "import warnings\n",
    "warnings.filterwarnings('ignore')\n",
    "\n",
    "# Import standard packages\n",
    "import pandas as pd\n",
    "import numpy as np\n",
    "import seaborn as sns\n",
    "import matplotlib.pyplot as plt\n",
    "%matplotlib inline\n",
    "\n",
    "from sklearn.linear_model import LogisticRegression\n",
    "# from sklearn.svm import SVC\n",
    "# from sklearn.externals import joblib"
   ]
  },
  {
   "cell_type": "markdown",
   "metadata": {},
   "source": [
    "Dataset information:\n",
    "\n",
    "The deataset is provided by the National Institute of Diabetes and Digestive and Kidney Diseases. The patients here are females at least 21 years old of Pima Indian heritage. Attributes (all numerical valued):\n",
    "\n",
    "   1. Number of times pregnant\n",
    "   2. Plasma glucose concentration a 2 hours in an oral glucose tolerance test\n",
    "   3. Diastolic blood pressure (mm Hg)\n",
    "   4. Triceps skin fold thickness (mm)\n",
    "   5. 2-Hour serum insulin (mu U/ml)\n",
    "   6. Body mass index (weight in kg/(height in m)^2)\n",
    "   7. Diabetes pedigree function\n",
    "   8. Age (years)\n",
    "   9. Class variable (0 or 1)"
   ]
  },
  {
   "cell_type": "code",
   "execution_count": 2,
   "metadata": {},
   "outputs": [
    {
     "name": "stdout",
     "output_type": "stream",
     "text": [
      "       Pregnancies     Glucose  BloodPressure  SkinThickness     Insulin  \\\n",
      "count   768.000000  768.000000     768.000000     768.000000  768.000000   \n",
      "mean      3.845052  120.894531      69.105469      20.536458   79.799479   \n",
      "std       3.369578   31.972618      19.355807      15.952218  115.244002   \n",
      "min       0.000000    0.000000       0.000000       0.000000    0.000000   \n",
      "25%       1.000000   99.000000      62.000000       0.000000    0.000000   \n",
      "50%       3.000000  117.000000      72.000000      23.000000   30.500000   \n",
      "75%       6.000000  140.250000      80.000000      32.000000  127.250000   \n",
      "max      17.000000  199.000000     122.000000      99.000000  846.000000   \n",
      "\n",
      "              BMI  DiabetesPedigreeFunction         Age     Outcome  \n",
      "count  768.000000                768.000000  768.000000  768.000000  \n",
      "mean    31.992578                  0.471876   33.240885    0.348958  \n",
      "std      7.884160                  0.331329   11.760232    0.476951  \n",
      "min      0.000000                  0.078000   21.000000    0.000000  \n",
      "25%     27.300000                  0.243750   24.000000    0.000000  \n",
      "50%     32.000000                  0.372500   29.000000    0.000000  \n",
      "75%     36.600000                  0.626250   41.000000    1.000000  \n",
      "max     67.100000                  2.420000   81.000000    1.000000  \n"
     ]
    }
   ],
   "source": [
    "diabetesDF = pd.read_csv('diabetes.csv')\n",
    "print(diabetesDF.describe())"
   ]
  },
  {
   "cell_type": "markdown",
   "metadata": {},
   "source": [
    "## Are there any missing values?\n",
    "\n",
    "The following columns have an invalid zero minimum value:\n",
    "\n",
    "1: Plasma glucose concentration\n",
    "2: Diastolic blood pressure\n",
    "3: Triceps skinfold thickness\n",
    "4: 2-Hour serum insulin\n",
    "5: Body mass index"
   ]
  },
  {
   "cell_type": "code",
   "execution_count": 3,
   "metadata": {},
   "outputs": [
    {
     "name": "stdout",
     "output_type": "stream",
     "text": [
      "    Pregnancies  Glucose  BloodPressure  SkinThickness  Insulin   BMI  \\\n",
      "0             6      148             72             35        0  33.6   \n",
      "1             1       85             66             29        0  26.6   \n",
      "2             8      183             64              0        0  23.3   \n",
      "3             1       89             66             23       94  28.1   \n",
      "4             0      137             40             35      168  43.1   \n",
      "5             5      116             74              0        0  25.6   \n",
      "6             3       78             50             32       88  31.0   \n",
      "7            10      115              0              0        0  35.3   \n",
      "8             2      197             70             45      543  30.5   \n",
      "9             8      125             96              0        0   0.0   \n",
      "10            4      110             92              0        0  37.6   \n",
      "11           10      168             74              0        0  38.0   \n",
      "12           10      139             80              0        0  27.1   \n",
      "13            1      189             60             23      846  30.1   \n",
      "14            5      166             72             19      175  25.8   \n",
      "15            7      100              0              0        0  30.0   \n",
      "16            0      118             84             47      230  45.8   \n",
      "17            7      107             74              0        0  29.6   \n",
      "18            1      103             30             38       83  43.3   \n",
      "19            1      115             70             30       96  34.6   \n",
      "\n",
      "    DiabetesPedigreeFunction  Age  Outcome  \n",
      "0                      0.627   50        1  \n",
      "1                      0.351   31        0  \n",
      "2                      0.672   32        1  \n",
      "3                      0.167   21        0  \n",
      "4                      2.288   33        1  \n",
      "5                      0.201   30        0  \n",
      "6                      0.248   26        1  \n",
      "7                      0.134   29        0  \n",
      "8                      0.158   53        1  \n",
      "9                      0.232   54        1  \n",
      "10                     0.191   30        0  \n",
      "11                     0.537   34        1  \n",
      "12                     1.441   57        0  \n",
      "13                     0.398   59        1  \n",
      "14                     0.587   51        1  \n",
      "15                     0.484   32        1  \n",
      "16                     0.551   31        1  \n",
      "17                     0.254   31        1  \n",
      "18                     0.183   33        0  \n",
      "19                     0.529   32        1  \n"
     ]
    }
   ],
   "source": [
    "# To verify this, view a few rows:\n",
    "print(diabetesDF.head(20))"
   ]
  },
  {
   "cell_type": "code",
   "execution_count": 4,
   "metadata": {},
   "outputs": [
    {
     "name": "stdout",
     "output_type": "stream",
     "text": [
      "Glucose            5\n",
      "BloodPressure     35\n",
      "SkinThickness    227\n",
      "Insulin          374\n",
      "BMI               11\n",
      "dtype: int64\n"
     ]
    }
   ],
   "source": [
    "# How many missing entries do we have?\n",
    "num_missing = (diabetesDF[['Glucose', 'BloodPressure', 'SkinThickness', 'Insulin', 'BMI']] == 0).sum()\n",
    "# report the results\n",
    "print(num_missing)"
   ]
  },
  {
   "cell_type": "code",
   "execution_count": 5,
   "metadata": {},
   "outputs": [
    {
     "name": "stdout",
     "output_type": "stream",
     "text": [
      "Pregnancies                   0\n",
      "Glucose                       5\n",
      "BloodPressure                35\n",
      "SkinThickness               227\n",
      "Insulin                     374\n",
      "BMI                          11\n",
      "DiabetesPedigreeFunction      0\n",
      "Age                           0\n",
      "Outcome                       0\n",
      "dtype: int64\n"
     ]
    }
   ],
   "source": [
    "# Good practive is to replace 0's by NaN... values with a NaN value are ignored from operations like sum, count, etc.\n",
    "from numpy import nan\n",
    "diabetesDF[['Glucose', 'BloodPressure', 'SkinThickness', 'Insulin', 'BMI']] = diabetesDF[['Glucose', 'BloodPressure', 'SkinThickness', 'Insulin', 'BMI']].replace(0, nan)\n",
    "# count the number of nan values in each column\n",
    "print(diabetesDF.isnull().sum())"
   ]
  },
  {
   "cell_type": "code",
   "execution_count": 6,
   "metadata": {},
   "outputs": [
    {
     "name": "stdout",
     "output_type": "stream",
     "text": [
      "    Pregnancies  Glucose  BloodPressure  SkinThickness  Insulin   BMI  \\\n",
      "0             6    148.0           72.0           35.0      NaN  33.6   \n",
      "1             1     85.0           66.0           29.0      NaN  26.6   \n",
      "2             8    183.0           64.0            NaN      NaN  23.3   \n",
      "3             1     89.0           66.0           23.0     94.0  28.1   \n",
      "4             0    137.0           40.0           35.0    168.0  43.1   \n",
      "5             5    116.0           74.0            NaN      NaN  25.6   \n",
      "6             3     78.0           50.0           32.0     88.0  31.0   \n",
      "7            10    115.0            NaN            NaN      NaN  35.3   \n",
      "8             2    197.0           70.0           45.0    543.0  30.5   \n",
      "9             8    125.0           96.0            NaN      NaN   NaN   \n",
      "10            4    110.0           92.0            NaN      NaN  37.6   \n",
      "11           10    168.0           74.0            NaN      NaN  38.0   \n",
      "12           10    139.0           80.0            NaN      NaN  27.1   \n",
      "13            1    189.0           60.0           23.0    846.0  30.1   \n",
      "14            5    166.0           72.0           19.0    175.0  25.8   \n",
      "15            7    100.0            NaN            NaN      NaN  30.0   \n",
      "16            0    118.0           84.0           47.0    230.0  45.8   \n",
      "17            7    107.0           74.0            NaN      NaN  29.6   \n",
      "18            1    103.0           30.0           38.0     83.0  43.3   \n",
      "19            1    115.0           70.0           30.0     96.0  34.6   \n",
      "\n",
      "    DiabetesPedigreeFunction  Age  Outcome  \n",
      "0                      0.627   50        1  \n",
      "1                      0.351   31        0  \n",
      "2                      0.672   32        1  \n",
      "3                      0.167   21        0  \n",
      "4                      2.288   33        1  \n",
      "5                      0.201   30        0  \n",
      "6                      0.248   26        1  \n",
      "7                      0.134   29        0  \n",
      "8                      0.158   53        1  \n",
      "9                      0.232   54        1  \n",
      "10                     0.191   30        0  \n",
      "11                     0.537   34        1  \n",
      "12                     1.441   57        0  \n",
      "13                     0.398   59        1  \n",
      "14                     0.587   51        1  \n",
      "15                     0.484   32        1  \n",
      "16                     0.551   31        1  \n",
      "17                     0.254   31        1  \n",
      "18                     0.183   33        0  \n",
      "19                     0.529   32        1  \n"
     ]
    }
   ],
   "source": [
    "# Check if everything look fine:\n",
    "print(diabetesDF.head(20))"
   ]
  },
  {
   "cell_type": "markdown",
   "metadata": {},
   "source": [
    "### Having discovered data is missing, what do we do?\n",
    "Simplest (brute force) approach: remove rows with missing values..."
   ]
  },
  {
   "cell_type": "code",
   "execution_count": 7,
   "metadata": {},
   "outputs": [],
   "source": [
    "## Drop rows with missing values...\n",
    "#diabetesDF.dropna(inplace=True)\n",
    "## summarize the shape of the data with missing rows removed\n",
    "#print(diabetesDF.shape)\n",
    "## Ans: (392,9)"
   ]
  },
  {
   "cell_type": "markdown",
   "metadata": {},
   "source": [
    "### Better yet, impute missing values\n",
    "\n",
    "Essentially, estimate the values of the missing feature components...\n",
    "\n",
    "Possible (still somewhat naive) strategies: \n",
    "\n",
    "(a) use a value from another randomly selected record;\n",
    "(b) use a mean, median or mode value for the column;\n",
    "(c) use a value estimated by another predictive model.\n",
    "\n",
    "The imputing strategy used on the training dataset needs to be used on the test data as well... e.g., if one imputes with mean column values, the same mean column values will need to be used during testing on any new data that has missing values.\n",
    "\n",
    "Useful function (in Pandas): fillna()."
   ]
  },
  {
   "cell_type": "code",
   "execution_count": 8,
   "metadata": {},
   "outputs": [
    {
     "name": "stdout",
     "output_type": "stream",
     "text": [
      "Pregnancies                 0\n",
      "Glucose                     0\n",
      "BloodPressure               0\n",
      "SkinThickness               0\n",
      "Insulin                     0\n",
      "BMI                         0\n",
      "DiabetesPedigreeFunction    0\n",
      "Age                         0\n",
      "Outcome                     0\n",
      "dtype: int64\n"
     ]
    }
   ],
   "source": [
    "# fill missing values with mean column values\n",
    "diabetesDF.fillna(diabetesDF.mean(), inplace=True)\n",
    "# count the number of NaN values in each column\n",
    "print(diabetesDF.isnull().sum())"
   ]
  },
  {
   "cell_type": "markdown",
   "metadata": {},
   "source": [
    "### SimpleImputer\n",
    "Scikit-learn library contains the SimpleImputer pre-processing class that can be used to replace missing values.\n",
    "SimpleImputer allows you to specify the value to replace (it can be something other than NaN) and the technique \n",
    "used to replace it (mean, median, or mode). The SimpleImputer class operates directly on the NumPy array instead \n",
    "of the DataFrame (see the example below)."
   ]
  },
  {
   "cell_type": "code",
   "execution_count": 9,
   "metadata": {},
   "outputs": [
    {
     "name": "stdout",
     "output_type": "stream",
     "text": [
      "Missing: 0\n"
     ]
    }
   ],
   "source": [
    "from sklearn.impute import SimpleImputer\n",
    "from numpy import isnan\n",
    "# retrieve the numpy array\n",
    "values = diabetesDF.values\n",
    "# define the imputer\n",
    "imputer = SimpleImputer(missing_values=nan, strategy='mean')\n",
    "# transform the dataset\n",
    "diabetesNP = imputer.fit_transform(values)\n",
    "# count the number of NaN values in each column\n",
    "print('Missing: %d' % isnan(diabetesNP).sum())"
   ]
  },
  {
   "cell_type": "code",
   "execution_count": 10,
   "metadata": {},
   "outputs": [
    {
     "data": {
      "text/plain": [
       "array([[  6.   , 148.   ,  72.   , ...,   0.627,  50.   ,   1.   ],\n",
       "       [  1.   ,  85.   ,  66.   , ...,   0.351,  31.   ,   0.   ],\n",
       "       [  8.   , 183.   ,  64.   , ...,   0.672,  32.   ,   1.   ],\n",
       "       ...,\n",
       "       [  5.   , 121.   ,  72.   , ...,   0.245,  30.   ,   0.   ],\n",
       "       [  1.   , 126.   ,  60.   , ...,   0.349,  47.   ,   1.   ],\n",
       "       [  1.   ,  93.   ,  70.   , ...,   0.315,  23.   ,   0.   ]])"
      ]
     },
     "execution_count": 10,
     "metadata": {},
     "output_type": "execute_result"
    }
   ],
   "source": [
    "diabetesNP"
   ]
  },
  {
   "cell_type": "code",
   "execution_count": 11,
   "metadata": {},
   "outputs": [
    {
     "data": {
      "text/html": [
       "<div>\n",
       "<style scoped>\n",
       "    .dataframe tbody tr th:only-of-type {\n",
       "        vertical-align: middle;\n",
       "    }\n",
       "\n",
       "    .dataframe tbody tr th {\n",
       "        vertical-align: top;\n",
       "    }\n",
       "\n",
       "    .dataframe thead th {\n",
       "        text-align: right;\n",
       "    }\n",
       "</style>\n",
       "<table border=\"1\" class=\"dataframe\">\n",
       "  <thead>\n",
       "    <tr style=\"text-align: right;\">\n",
       "      <th></th>\n",
       "      <th>Pregnancies</th>\n",
       "      <th>Glucose</th>\n",
       "      <th>BloodPressure</th>\n",
       "      <th>SkinThickness</th>\n",
       "      <th>Insulin</th>\n",
       "      <th>BMI</th>\n",
       "      <th>DiabetesScore</th>\n",
       "      <th>Age</th>\n",
       "      <th>Outcome</th>\n",
       "    </tr>\n",
       "  </thead>\n",
       "  <tbody>\n",
       "    <tr>\n",
       "      <th>Pregnancies</th>\n",
       "      <td>1.000000</td>\n",
       "      <td>0.127911</td>\n",
       "      <td>0.208522</td>\n",
       "      <td>0.082989</td>\n",
       "      <td>0.056027</td>\n",
       "      <td>0.021565</td>\n",
       "      <td>-0.033523</td>\n",
       "      <td>0.544341</td>\n",
       "      <td>0.221898</td>\n",
       "    </tr>\n",
       "    <tr>\n",
       "      <th>Glucose</th>\n",
       "      <td>0.127911</td>\n",
       "      <td>1.000000</td>\n",
       "      <td>0.218367</td>\n",
       "      <td>0.192991</td>\n",
       "      <td>0.420157</td>\n",
       "      <td>0.230941</td>\n",
       "      <td>0.137060</td>\n",
       "      <td>0.266534</td>\n",
       "      <td>0.492928</td>\n",
       "    </tr>\n",
       "    <tr>\n",
       "      <th>BloodPressure</th>\n",
       "      <td>0.208522</td>\n",
       "      <td>0.218367</td>\n",
       "      <td>1.000000</td>\n",
       "      <td>0.192816</td>\n",
       "      <td>0.072517</td>\n",
       "      <td>0.281268</td>\n",
       "      <td>-0.002763</td>\n",
       "      <td>0.324595</td>\n",
       "      <td>0.166074</td>\n",
       "    </tr>\n",
       "    <tr>\n",
       "      <th>SkinThickness</th>\n",
       "      <td>0.082989</td>\n",
       "      <td>0.192991</td>\n",
       "      <td>0.192816</td>\n",
       "      <td>1.000000</td>\n",
       "      <td>0.158139</td>\n",
       "      <td>0.542398</td>\n",
       "      <td>0.100966</td>\n",
       "      <td>0.127872</td>\n",
       "      <td>0.215299</td>\n",
       "    </tr>\n",
       "    <tr>\n",
       "      <th>Insulin</th>\n",
       "      <td>0.056027</td>\n",
       "      <td>0.420157</td>\n",
       "      <td>0.072517</td>\n",
       "      <td>0.158139</td>\n",
       "      <td>1.000000</td>\n",
       "      <td>0.166586</td>\n",
       "      <td>0.098634</td>\n",
       "      <td>0.136734</td>\n",
       "      <td>0.214411</td>\n",
       "    </tr>\n",
       "    <tr>\n",
       "      <th>BMI</th>\n",
       "      <td>0.021565</td>\n",
       "      <td>0.230941</td>\n",
       "      <td>0.281268</td>\n",
       "      <td>0.542398</td>\n",
       "      <td>0.166586</td>\n",
       "      <td>1.000000</td>\n",
       "      <td>0.153400</td>\n",
       "      <td>0.025519</td>\n",
       "      <td>0.311924</td>\n",
       "    </tr>\n",
       "    <tr>\n",
       "      <th>DiabetesScore</th>\n",
       "      <td>-0.033523</td>\n",
       "      <td>0.137060</td>\n",
       "      <td>-0.002763</td>\n",
       "      <td>0.100966</td>\n",
       "      <td>0.098634</td>\n",
       "      <td>0.153400</td>\n",
       "      <td>1.000000</td>\n",
       "      <td>0.033561</td>\n",
       "      <td>0.173844</td>\n",
       "    </tr>\n",
       "    <tr>\n",
       "      <th>Age</th>\n",
       "      <td>0.544341</td>\n",
       "      <td>0.266534</td>\n",
       "      <td>0.324595</td>\n",
       "      <td>0.127872</td>\n",
       "      <td>0.136734</td>\n",
       "      <td>0.025519</td>\n",
       "      <td>0.033561</td>\n",
       "      <td>1.000000</td>\n",
       "      <td>0.238356</td>\n",
       "    </tr>\n",
       "    <tr>\n",
       "      <th>Outcome</th>\n",
       "      <td>0.221898</td>\n",
       "      <td>0.492928</td>\n",
       "      <td>0.166074</td>\n",
       "      <td>0.215299</td>\n",
       "      <td>0.214411</td>\n",
       "      <td>0.311924</td>\n",
       "      <td>0.173844</td>\n",
       "      <td>0.238356</td>\n",
       "      <td>1.000000</td>\n",
       "    </tr>\n",
       "  </tbody>\n",
       "</table>\n",
       "</div>"
      ],
      "text/plain": [
       "               Pregnancies   Glucose  BloodPressure  SkinThickness   Insulin  \\\n",
       "Pregnancies       1.000000  0.127911       0.208522       0.082989  0.056027   \n",
       "Glucose           0.127911  1.000000       0.218367       0.192991  0.420157   \n",
       "BloodPressure     0.208522  0.218367       1.000000       0.192816  0.072517   \n",
       "SkinThickness     0.082989  0.192991       0.192816       1.000000  0.158139   \n",
       "Insulin           0.056027  0.420157       0.072517       0.158139  1.000000   \n",
       "BMI               0.021565  0.230941       0.281268       0.542398  0.166586   \n",
       "DiabetesScore    -0.033523  0.137060      -0.002763       0.100966  0.098634   \n",
       "Age               0.544341  0.266534       0.324595       0.127872  0.136734   \n",
       "Outcome           0.221898  0.492928       0.166074       0.215299  0.214411   \n",
       "\n",
       "                    BMI  DiabetesScore       Age   Outcome  \n",
       "Pregnancies    0.021565      -0.033523  0.544341  0.221898  \n",
       "Glucose        0.230941       0.137060  0.266534  0.492928  \n",
       "BloodPressure  0.281268      -0.002763  0.324595  0.166074  \n",
       "SkinThickness  0.542398       0.100966  0.127872  0.215299  \n",
       "Insulin        0.166586       0.098634  0.136734  0.214411  \n",
       "BMI            1.000000       0.153400  0.025519  0.311924  \n",
       "DiabetesScore  0.153400       1.000000  0.033561  0.173844  \n",
       "Age            0.025519       0.033561  1.000000  0.238356  \n",
       "Outcome        0.311924       0.173844  0.238356  1.000000  "
      ]
     },
     "execution_count": 11,
     "metadata": {},
     "output_type": "execute_result"
    }
   ],
   "source": [
    "TransformedDiabetesDF = pd.DataFrame(diabetesNP, columns = ['Pregnancies', 'Glucose', 'BloodPressure', 'SkinThickness', 'Insulin', 'BMI', 'DiabetesScore', 'Age', 'Outcome'])\n",
    "corr = TransformedDiabetesDF.corr()\n",
    "corr"
   ]
  },
  {
   "cell_type": "code",
   "execution_count": 12,
   "metadata": {},
   "outputs": [
    {
     "data": {
      "text/plain": [
       "<Axes: >"
      ]
     },
     "execution_count": 12,
     "metadata": {},
     "output_type": "execute_result"
    },
    {
     "data": {
      "image/png": "[encoded data removed]",
      "text/plain": [
       "<Figure size 432x288 with 2 Axes>"
      ]
     },
     "metadata": {
      "needs_background": "light"
     },
     "output_type": "display_data"
    }
   ],
   "source": [
    "sns.heatmap(corr, \n",
    "        xticklabels=corr.columns,\n",
    "        yticklabels=corr.columns)"
   ]
  },
  {
   "cell_type": "code",
   "execution_count": 13,
   "metadata": {},
   "outputs": [],
   "source": [
    "# Let us use 650 data records for training and 100 data records for testing\n",
    "# (Reserve 18 data records for validation)\n",
    "\n",
    "dfTrain = TransformedDiabetesDF[:650]\n",
    "dfTest = TransformedDiabetesDF[650:750]\n",
    "dfValid = TransformedDiabetesDF[750:]"
   ]
  },
  {
   "cell_type": "code",
   "execution_count": 14,
   "metadata": {},
   "outputs": [
    {
     "data": {
      "text/plain": [
       "array([[6.00e+00, 1.48e+02, 7.20e+01, ..., 3.36e+01, 6.27e-01, 5.00e+01],\n",
       "       [1.00e+00, 8.50e+01, 6.60e+01, ..., 2.66e+01, 3.51e-01, 3.10e+01],\n",
       "       [8.00e+00, 1.83e+02, 6.40e+01, ..., 2.33e+01, 6.72e-01, 3.20e+01],\n",
       "       ...,\n",
       "       [0.00e+00, 1.79e+02, 5.00e+01, ..., 3.78e+01, 4.55e-01, 2.20e+01],\n",
       "       [1.10e+01, 1.36e+02, 8.40e+01, ..., 2.83e+01, 2.60e-01, 4.20e+01],\n",
       "       [0.00e+00, 1.07e+02, 6.00e+01, ..., 2.64e+01, 1.33e-01, 2.30e+01]])"
      ]
     },
     "execution_count": 14,
     "metadata": {},
     "output_type": "execute_result"
    }
   ],
   "source": [
    "#Separating label and features and converting to numpy array to feed into our model\n",
    "trainLabel = np.asarray(dfTrain['Outcome'])\n",
    "trainData = np.asarray(dfTrain.drop('Outcome',1))\n",
    "testLabel = np.asarray(dfTest['Outcome'])\n",
    "testData = np.asarray(dfTest.drop('Outcome',1))\n",
    "trainData"
   ]
  },
  {
   "cell_type": "code",
   "execution_count": 17,
   "metadata": {},
   "outputs": [],
   "source": [
    "# Normalize the data \n",
    "means = np.mean(trainData, axis=0)\n",
    "stds = np.std(trainData, axis=0)\n",
    "\n",
    "trainData = (trainData - means)/stds\n",
    "testData = (testData - means)/stds\n",
    "\n",
    "# means = np.mean(trainData, axis=0)\n",
    "# stds = np.std(trainData, axis=0)"
   ]
  },
  {
   "cell_type": "code",
   "execution_count": 18,
   "metadata": {},
   "outputs": [
    {
     "name": "stdout",
     "output_type": "stream",
     "text": [
      "accuracy =  77.0 %\n"
     ]
    }
   ],
   "source": [
    "diabetesCheck = LogisticRegression().fit(trainData, trainLabel)\n",
    "diabetesCheck.predict(testData[:2, :])\n",
    "accuracy = diabetesCheck.score(testData,testLabel)\n",
    "print(\"accuracy = \",accuracy * 100,\"%\")"
   ]
  },
  {
   "cell_type": "code",
   "execution_count": null,
   "metadata": {},
   "outputs": [],
   "source": []
  }
 ],
 "metadata": {
  "anaconda-cloud": {},
  "kernelspec": {
   "display_name": "Python 3 (ipykernel)",
   "language": "python",
   "name": "python3"
  },
  "language_info": {
   "codemirror_mode": {
    "name": "ipython",
    "version": 3
   },
   "file_extension": ".py",
   "mimetype": "text/x-python",
   "name": "python",
   "nbconvert_exporter": "python",
   "pygments_lexer": "ipython3",
   "version": "3.10.12"
  }
 },
 "nbformat": 4,
 "nbformat_minor": 4
}
